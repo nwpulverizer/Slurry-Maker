{
 "cells": [
  {
   "cell_type": "code",
   "execution_count": 1,
   "id": "72b4b88c-bfdc-4771-b34e-eb88c49b370c",
   "metadata": {},
   "outputs": [],
   "source": [
    "from scipy.stats import linregress as LR\n",
    "from ipywidgets import interact\n",
    "import ipywidgets as widgets\n",
    "from dataclasses import dataclass\n",
    "from typing import Union\n",
    "import numpy as np\n",
    "import numpy.typing as npt\n",
    "import matplotlib.pyplot as plt"
   ]
  },
  {
   "cell_type": "code",
   "execution_count": 2,
   "id": "73775e52-6f0b-45e1-baee-cf2605e347ea",
   "metadata": {},
   "outputs": [],
   "source": [
    "@dataclass\n",
    "class HugoniotEOS:\n",
    "    name: str\n",
    "    rho0: float\n",
    "    C0: float\n",
    "    S: float\n",
    "    def hugoniot_eos(self, up: Union[float, npt.ArrayLike]) -> Union[float, npt.ArrayLike] :\n",
    "        '''\n",
    "        Calculate Us from linear Us-Up relationship\n",
    "        '''\n",
    "        Us = self.C0 + self.S*up\n",
    "        return Us\n",
    "\n",
    "    def hugoniot_P(self, up:Union[float, npt.ArrayLike])->Union[float, npt.ArrayLike]:\n",
    "        '''\n",
    "        Calculate pressure by using linear Us-Up relationship to get Us from Up input. \n",
    "        '''\n",
    "        Us = self.hugoniot_eos(up)\n",
    "        P = self.rho0*Us*up\n",
    "        return P\n",
    "    def solve_up(self, P: Union[npt.ArrayLike, float]) -> Union[npt.ArrayLike, float]:\n",
    "        '''\n",
    "        Get the Up for a given pressure or range of pressures. By solving a quadratic equation\n",
    "        and taking the positive root. \n",
    "        '''\n",
    "        a = self.S\n",
    "        b = self.C0\n",
    "        c = -P/self.rho0\n",
    "\n",
    "        Up = (-b + np.sqrt(b**2 - 4*a*c))/(2*a)\n",
    "        return Up\n",
    "@dataclass\n",
    "class MixedHugoniotEOS(HugoniotEOS):\n",
    "    mat1: HugoniotEOS\n",
    "    mat2: HugoniotEOS\n",
    "    mat1_volpercent: float\n",
    "    \n",
    "def convert_volfrac_to_massfrac(rho1: Union[float, npt.ArrayLike], rho2: Union[float, npt.ArrayLike], Vx1: float) -> Union[float, npt.ArrayLike]:\n",
    "    '''\n",
    "    Converts volume frac to mass frac. \n",
    "    Expects Vx1 to be between 0 and 1\n",
    "    will return the mass fraction for a given volume fraction of \n",
    "    the material with rho1. \n",
    "    '''\n",
    "    mass_1 = rho1 * Vx1\n",
    "    mass_2 = rho2 * (1-Vx1)\n",
    "    x1 = mass_1/(mass_1 + mass_2)\n",
    "    return x1\n",
    "    \n",
    "    \n",
    "def generate_mixed_hugoniot(name:str, material1: HugoniotEOS, material2: HugoniotEOS, Vx_mat1:float, Up: npt.ArrayLike) -> HugoniotEOS:\n",
    "    P = material1.hugoniot_P(Up) \n",
    "    material1Up = Up\n",
    "    material2Up = material2.solve_up(P)\n",
    "\n",
    "    mass_mat1 = material1.rho0 * Vx_mat1\n",
    "    mass_mat2 = material2.rho0 * (1-Vx_mat1)\n",
    "    x_mat1 = convert_volfrac_to_massfrac(material1.rho0, material2.rho0, Vx_mat1)\n",
    "    rho_mix = (mass_mat1 + mass_mat2)/((mass_mat1/material1.rho0) + (mass_mat2/material2.rho0))\n",
    "    mixed_Up = np.sqrt(material1Up**2 * x_mat1 + material2Up**2 * (1-x_mat1))\n",
    "    # avoid divide by zero warning, shortens result array by 1\n",
    "    mixed_Us = (P[1:])/(rho_mix*mixed_Up[1:])\n",
    "    regression = LR(mixed_Up[1:], mixed_Us) # match sizes of arrays by skipping first item in Up\n",
    "    mixed = MixedHugoniotEOS(name, rho_mix, regression.intercept, regression.slope, material1, material2, Vx_mat1)\n",
    "    mixed.x_mat1 = x_mat1\n",
    "    return mixed\n",
    "\n",
    "def plot_mixture(material1: HugoniotEOS, material2: HugoniotEOS, volpercent:float) -> MixedHugoniotEOS:\n",
    "    up1 = np.linspace(0.,6,1000)\n",
    "    mix = generate_mixed_hugoniot(f'vol{str(volpercent)+material1.name + material2.name}', material1, material2, volpercent, up1)\n",
    "    P = material1.hugoniot_P(up1)\n",
    "    upmix = mix.solve_up(P)\n",
    "    up2 = material2.solve_up(P)\n",
    "    \n",
    "    fig,ax = plt.subplots(1,2, figsize=(16,8))\n",
    "    plt.rcParams.update({'font.size': 22})\n",
    "    ax[0].plot(up1,P,'-b',linewidth=3,label=material1.name)\n",
    "    ax[0].plot(material2.solve_up(P),P,'-r',linewidth=3,label=material2.name)\n",
    "    ax[0].plot(mix.solve_up(P),P,'--m',linewidth=3,label=f'{mix.mat1_volpercent*100:.1f} %v {material1.name}')\n",
    "    ax[0].set_xlabel('up (km/s)') \n",
    "    ax[0].set_ylabel('P (GPa)')\n",
    "    ax[0].legend(fontsize=14)\n",
    "\n",
    "    ax[1].set_xlabel(\"Up\")\n",
    "    ax[1].set_ylabel(\"Us\")\n",
    "    ax[1].plot(up1, mix.hugoniot_eos(up1), label = f'{mix.mat1_volpercent*100:.1f} %v {material1.name}')\n",
    "    ax[1].plot(up1, material1.hugoniot_eos(up1), label  = material1.name)\n",
    "    ax[1].plot(up1, material2.hugoniot_eos(up1), label = material2.name)\n",
    "    ax[1].legend()\n",
    "    return mix"
   ]
  },
  {
   "cell_type": "code",
   "execution_count": 4,
   "id": "948038ca-36a3-4291-8558-a6ff7c319c0d",
   "metadata": {},
   "outputs": [
    {
     "data": {
      "application/vnd.jupyter.widget-view+json": {
       "model_id": "fa26a683bb3942d08bbfe18664910db5",
       "version_major": 2,
       "version_minor": 0
      },
      "text/plain": [
       "VBox(children=(HBox(children=(VBox(children=(HTML(value='<h1>Material 1</h1>'), Text(value='MgO', description=…"
      ]
     },
     "metadata": {},
     "output_type": "display_data"
    },
    {
     "data": {
      "application/vnd.jupyter.widget-view+json": {
       "model_id": "e446a9f2c27746778b56ef94b6912de6",
       "version_major": 2,
       "version_minor": 0
      },
      "text/plain": [
       "Output()"
      ]
     },
     "metadata": {},
     "output_type": "display_data"
    }
   ],
   "source": [
    "# Create interactive widgets for material 1\n",
    "from ipywidgets.widgets import VBox, HBox\n",
    "import pprint\n",
    "from time import sleep\n",
    "title1 = widgets.HTML('<h1>Material 1</h1>')\n",
    "name1 = widgets.Text(value=\"MgO\", description=\"Name\")\n",
    "rho0_1 = widgets.FloatText(value=3.583, description=\"Density\")\n",
    "C0_1 = widgets.FloatText(value=6.661, description=\"C0\")\n",
    "S_1 = widgets.FloatText(value=1.36, description=\"S\")\n",
    "material1_box = VBox([title1, name1, rho0_1, C0_1, S_1])\n",
    "\n",
    "# Create interactive widgets for material 2\n",
    "title2 = widgets.HTML('<h1>Material 2</h1>')\n",
    "name2 = widgets.Text(value=\"Epoxy\", description=\"Name\")\n",
    "rho0_2 = widgets.FloatText(value=1.2, description=\"Density\")\n",
    "C0_2 = widgets.FloatText(value=2.9443, descripton=\"C0\")\n",
    "S_2 = widgets.FloatText(value=1.3395, description=\"S\")\n",
    "material2_box = VBox([title2, name2, rho0_2, C0_2, S_2])\n",
    "\n",
    "# Create widget for volume percentage\n",
    "volpercent = widgets.FloatSlider(value=0.4, min=0.0, max=1.0, step=0.01, description='Mat1 v1/v')\n",
    "# Combine all widgets into a single layout\n",
    "ui = HBox([material1_box, material2_box, ])\n",
    "ui = VBox([ui, volpercent])\n",
    "def update_plot(name1, rho0_1, C0_1, S_1, name2, rho0_2, C0_2, S_2, volpercent):\n",
    "    material1 = HugoniotEOS(name=name1, rho0=rho0_1, C0=C0_1, S=S_1)\n",
    "    material2 = HugoniotEOS(name=name2, rho0=rho0_2, C0=C0_2, S=S_2)\n",
    "    mix =  plot_mixture(material1, material2, volpercent)\n",
    "    print(\"*\"*100)\n",
    "    print(f'Mixture parameters\\n Density: {mix.rho0}\\n C0: {mix.C0}\\n S: {mix.S}')\n",
    "    print(f'Weight percent {material1.name}: {mix.x_mat1}')\n",
    "    print('The mixed hugoniot data is defined in this notebook as the variable \"mix\"')\n",
    "    sleep(.1)\n",
    "out = widgets.interactive_output(update_plot, {'name1': name1, 'rho0_1': rho0_1, 'C0_1': C0_1, 'S_1': S_1, 'name2': name2, 'rho0_2': rho0_2, 'C0_2': C0_2, 'S_2': S_2, 'volpercent': volpercent})\n",
    "\n",
    "\n",
    "display(ui, out)"
   ]
  },
  {
   "cell_type": "code",
   "execution_count": null,
   "id": "8406f1cd-a92c-43a4-b8ba-0e786989c800",
   "metadata": {},
   "outputs": [],
   "source": []
  },
  {
   "cell_type": "code",
   "execution_count": null,
   "id": "5d7620ca-fdc1-4945-b3e1-2fd3ec489979",
   "metadata": {},
   "outputs": [],
   "source": []
  }
 ],
 "metadata": {
  "kernelspec": {
   "display_name": "Python 3 (ipykernel)",
   "language": "python",
   "name": "python3"
  },
  "language_info": {
   "codemirror_mode": {
    "name": "ipython",
    "version": 3
   },
   "file_extension": ".py",
   "mimetype": "text/x-python",
   "name": "python",
   "nbconvert_exporter": "python",
   "pygments_lexer": "ipython3",
   "version": "3.9.12"
  }
 },
 "nbformat": 4,
 "nbformat_minor": 5
}
